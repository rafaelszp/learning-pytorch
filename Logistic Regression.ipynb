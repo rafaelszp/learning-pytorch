{
 "cells": [
  {
   "cell_type": "markdown",
   "metadata": {},
   "source": [
    "# Logistic Regression "
   ]
  },
  {
   "cell_type": "code",
   "execution_count": 2,
   "metadata": {},
   "outputs": [],
   "source": [
    "import torch\n",
    "import torchvision.transforms as transforms\n",
    "import torchvision.datasets as dsets\n",
    "from torch.autograd import Variable\n",
    "import math\n",
    "import torch.nn as nn\n",
    "import torch.nn.functional as F\n",
    "from torch.utils.data.sampler import SubsetRandomSampler"
   ]
  },
  {
   "cell_type": "markdown",
   "metadata": {},
   "source": [
    "## Loading dataset from MNIST"
   ]
  },
  {
   "cell_type": "code",
   "execution_count": 3,
   "metadata": {},
   "outputs": [
    {
     "name": "stdout",
     "output_type": "stream",
     "text": [
      "Downloading http://yann.lecun.com/exdb/mnist/train-images-idx3-ubyte.gz\n",
      "Downloading http://yann.lecun.com/exdb/mnist/train-labels-idx1-ubyte.gz\n",
      "Downloading http://yann.lecun.com/exdb/mnist/t10k-images-idx3-ubyte.gz\n",
      "Downloading http://yann.lecun.com/exdb/mnist/t10k-labels-idx1-ubyte.gz\n",
      "Processing...\n",
      "Done!\n"
     ]
    }
   ],
   "source": [
    "train_dataset = dsets.MNIST(root='./data',train=True,transform=transforms.ToTensor(),download=True)\n",
    "test_dataset = dsets.MNIST(root='./data',train=False,transform=transforms.ToTensor())"
   ]
  },
  {
   "cell_type": "code",
   "execution_count": 4,
   "metadata": {},
   "outputs": [
    {
     "data": {
      "text/plain": [
       "60000"
      ]
     },
     "execution_count": 4,
     "metadata": {},
     "output_type": "execute_result"
    }
   ],
   "source": [
    "(len(train_dataset))"
   ]
  },
  {
   "cell_type": "markdown",
   "metadata": {},
   "source": [
    "## Sampling"
   ]
  },
  {
   "cell_type": "code",
   "execution_count": 7,
   "metadata": {},
   "outputs": [],
   "source": [
    "dset_size = len(train_dataset)\n",
    "indices = list(range(dset_size))\n",
    "train_end = math.floor(0.75*dset_size)\n",
    "train_idx, valid_idx = indices[:train_end],indices[train_end:]\n",
    "train_sample = SubsetRandomSampler(train_idx)\n",
    "valid_sample = SubsetRandomSampler(valid_idx)"
   ]
  },
  {
   "cell_type": "markdown",
   "metadata": {},
   "source": [
    "## Parameters"
   ]
  },
  {
   "cell_type": "code",
   "execution_count": 9,
   "metadata": {},
   "outputs": [],
   "source": [
    "batch_size = 64\n",
    "epochs = 2\n",
    "learning_rate=0.01"
   ]
  },
  {
   "cell_type": "code",
   "execution_count": 11,
   "metadata": {},
   "outputs": [],
   "source": [
    "train_features = torch.utils.data.DataLoader(train_dataset,batch_size=batch_size,sampler=train_sample)\n",
    "valid_features = torch.utils.data.DataLoader(train_dataset,batch_size=batch_size,sampler=valid_sample)\n",
    "test_features = torch.utils.data.DataLoader(test_dataset,batch_size=batch_size,shuffle=True)"
   ]
  },
  {
   "cell_type": "code",
   "execution_count": 12,
   "metadata": {},
   "outputs": [
    {
     "name": "stdout",
     "output_type": "stream",
     "text": [
      "train n_batches  704\n",
      "valid n_batches  235\n",
      "test n_batches 157\n"
     ]
    }
   ],
   "source": [
    "print('train n_batches ',len(train_features))\n",
    "print('valid n_batches ',len(valid_features))\n",
    "print('test n_batches',len(test_features))"
   ]
  },
  {
   "cell_type": "markdown",
   "metadata": {},
   "source": [
    "## Defining model"
   ]
  },
  {
   "cell_type": "code",
   "execution_count": 16,
   "metadata": {},
   "outputs": [],
   "source": [
    "class LogisticRegression(nn.Module):\n",
    "    def __init__(self,input_size,num_classes):\n",
    "        super(LogisticRegression,self).__init__()\n",
    "        fc1_out_size = 64\n",
    "        self.fc1 = nn.Linear(input_size,fc1_out_size)\n",
    "        self.fc2 = nn.Linear(fc1_out_size,num_classes)        \n",
    "    \n",
    "    def forward(self,x):\n",
    "        fc1 = self.fc1(x)\n",
    "        fc1 = F.batch_norm(fc1)\n",
    "        fc1 = F.softmax(fc1)\n",
    "        fc2 = self.fc2(fc1)\n",
    "        fc2 = F.batch_norm(fc2)\n",
    "        return F.softmax(fc2)\n",
    "        "
   ]
  },
  {
   "cell_type": "code",
   "execution_count": 18,
   "metadata": {},
   "outputs": [],
   "source": [
    "model = LogisticRegression(input_size=28*28,num_classes=10)"
   ]
  },
  {
   "cell_type": "markdown",
   "metadata": {},
   "source": [
    "## Defining Loss"
   ]
  },
  {
   "cell_type": "code",
   "execution_count": 32,
   "metadata": {},
   "outputs": [],
   "source": [
    "loss_function = nn.CrossEntropyLoss()\n",
    "optimizer = torch.optim.Adam(model.parameters(),learning_rate)"
   ]
  },
  {
   "cell_type": "markdown",
   "metadata": {},
   "source": [
    "## Training model"
   ]
  },
  {
   "cell_type": "code",
   "execution_count": 31,
   "metadata": {},
   "outputs": [
    {
     "name": "stdout",
     "output_type": "stream",
     "text": [
      "torch.Size([64]) tensor([ 8,  1,  5,  4,  0,  6,  1,  3,  3,  8,  4,  8,  6,  7,\n",
      "         3,  9,  1,  9,  6,  6,  7,  4,  4,  9,  7,  4,  4,  6,\n",
      "         5,  2,  7,  8,  7,  7,  8,  9,  0,  4,  3,  0,  6,  3,\n",
      "         6,  6,  3,  1,  0,  4,  0,  8,  8,  3,  8,  3,  3,  7,\n",
      "         1,  2,  8,  3,  9,  4,  6,  4])\n",
      "torch.Size([64]) tensor([ 1,  6,  3,  8,  2,  5,  8,  4,  6,  3,  7,  7,  9,  7,\n",
      "         1,  9,  5,  2,  3,  4,  9,  2,  3,  9,  0,  2,  2,  3,\n",
      "         7,  4,  3,  6,  2,  8,  8,  3,  2,  9,  0,  7,  5,  5,\n",
      "         0,  5,  5,  1,  2,  5,  7,  3,  7,  6,  7,  7,  9,  3,\n",
      "         2,  3,  8,  0,  9,  1,  6,  1])\n"
     ]
    }
   ],
   "source": [
    "iterations = 0\n",
    "for epoch in range(epochs):\n",
    "    for i,(images,labels) in enumerate(train_features):\n",
    "        \n",
    "        '''\n",
    "        As long as the image shape is a 4D tensor(64,1,28,28) we need to reshape it to fit into model which\n",
    "        is a linear fc with 28*28 input dim size. So the feature dim is (batch_size,28*28).\n",
    "        '''\n",
    "        features = Variable(images.view(-1,28*28))\n",
    "        targets  = Variable(labels)\n",
    "\n",
    "        optimizer.zero_grad()\n",
    "        outputs = model(feature)\n",
    "        loss = loss_function(outputs,targets)\n",
    "        \n",
    "        #backprop\n",
    "        loss.backward()\n",
    "        \n",
    "        #step\n",
    "        optimizer.step()"
   ]
  },
  {
   "cell_type": "code",
   "execution_count": null,
   "metadata": {},
   "outputs": [],
   "source": []
  }
 ],
 "metadata": {
  "kernelspec": {
   "display_name": "Python 3",
   "language": "python",
   "name": "python3"
  },
  "language_info": {
   "codemirror_mode": {
    "name": "ipython",
    "version": 3
   },
   "file_extension": ".py",
   "mimetype": "text/x-python",
   "name": "python",
   "nbconvert_exporter": "python",
   "pygments_lexer": "ipython3",
   "version": "3.6.5"
  }
 },
 "nbformat": 4,
 "nbformat_minor": 2
}
