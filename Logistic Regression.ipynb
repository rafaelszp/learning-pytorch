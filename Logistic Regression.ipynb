{
 "cells": [
  {
   "cell_type": "markdown",
   "metadata": {},
   "source": [
    "# Logistic Regression "
   ]
  },
  {
   "cell_type": "code",
   "execution_count": 33,
   "metadata": {},
   "outputs": [],
   "source": [
    "import torch\n",
    "import torchvision.transforms as transforms\n",
    "import torchvision.datasets as dsets\n",
    "from torch.autograd import Variable\n",
    "import math\n",
    "import torch.nn as nn\n",
    "import torch.nn.functional as F\n",
    "from torch.utils.data.sampler import SubsetRandomSampler\n",
    "import sys"
   ]
  },
  {
   "cell_type": "markdown",
   "metadata": {},
   "source": [
    "## Loading dataset from MNIST"
   ]
  },
  {
   "cell_type": "code",
   "execution_count": 117,
   "metadata": {},
   "outputs": [],
   "source": [
    "train_dataset = dsets.MNIST(root='./data/train',train=True,transform=transforms.ToTensor(),download=True)\n",
    "valid_dataset = dsets.MNIST(root='./data/valid',train=True,transform=transforms.ToTensor(),download=True)\n",
    "test_dataset = dsets.MNIST(root='./data/test',train=False,transform=transforms.ToTensor(),download=True)"
   ]
  },
  {
   "cell_type": "code",
   "execution_count": 118,
   "metadata": {},
   "outputs": [
    {
     "data": {
      "text/plain": [
       "60000"
      ]
     },
     "execution_count": 118,
     "metadata": {},
     "output_type": "execute_result"
    }
   ],
   "source": [
    "(len(train_dataset))"
   ]
  },
  {
   "cell_type": "markdown",
   "metadata": {},
   "source": [
    "## Sampling"
   ]
  },
  {
   "cell_type": "code",
   "execution_count": 119,
   "metadata": {},
   "outputs": [],
   "source": [
    "dset_size = len(train_dataset)\n",
    "indices = list(range(dset_size))\n",
    "train_end = math.floor(0.75*dset_size)\n",
    "train_idx, valid_idx = indices[:train_end],indices[train_end:]\n",
    "train_sample = SubsetRandomSampler(train_idx)\n",
    "valid_sample = SubsetRandomSampler(valid_idx)"
   ]
  },
  {
   "cell_type": "markdown",
   "metadata": {},
   "source": [
    "## Parameters"
   ]
  },
  {
   "cell_type": "code",
   "execution_count": 114,
   "metadata": {},
   "outputs": [],
   "source": [
    "batch_size = 64\n",
    "epochs = 2\n",
    "learning_rate=0.1"
   ]
  },
  {
   "cell_type": "code",
   "execution_count": 120,
   "metadata": {},
   "outputs": [],
   "source": [
    "train_features = torch.utils.data.DataLoader(train_dataset,batch_size=batch_size,sampler=train_sample)\n",
    "valid_features = torch.utils.data.DataLoader(valid_dataset,batch_size=batch_size,sampler=valid_sample)\n",
    "test_features = torch.utils.data.DataLoader(test_dataset,batch_size=batch_size,shuffle=True)"
   ]
  },
  {
   "cell_type": "code",
   "execution_count": 121,
   "metadata": {},
   "outputs": [
    {
     "name": "stdout",
     "output_type": "stream",
     "text": [
      "train n_batches  704\n",
      "valid n_batches  235\n",
      "test n_batches 157\n"
     ]
    }
   ],
   "source": [
    "print('train n_batches ',len(train_features))\n",
    "print('valid n_batches ',len(valid_features))\n",
    "print('test n_batches',len(test_features))"
   ]
  },
  {
   "cell_type": "markdown",
   "metadata": {},
   "source": [
    "## Defining model"
   ]
  },
  {
   "cell_type": "code",
   "execution_count": 133,
   "metadata": {},
   "outputs": [],
   "source": [
    "class LogisticRegression(nn.Module):\n",
    "    def __init__(self,input_size,num_classes):\n",
    "        super(LogisticRegression,self).__init__()\n",
    "        fc1_out_size = 64\n",
    "        self.fc1 = nn.Linear(input_size,fc1_out_size)\n",
    "        self.batch1 = nn.BatchNorm1d(fc1_out_size)\n",
    "        self.fc2 = nn.Linear(fc1_out_size,num_classes)\n",
    "        self.batch2 = nn.BatchNorm1d(num_classes)\n",
    "    \n",
    "    def forward(self,x):\n",
    "        fc1 = self.fc1(x)\n",
    "        fc1 = self.batch1(fc1)\n",
    "        fc1 = F.softmax(fc1,dim=1)\n",
    "        fc2 = self.fc2(fc1)\n",
    "        fc2 = self.batch2(fc2)\n",
    "        return F.softmax(fc2,dim=1)\n",
    "        "
   ]
  },
  {
   "cell_type": "code",
   "execution_count": 134,
   "metadata": {},
   "outputs": [],
   "source": [
    "model = LogisticRegression(input_size=28*28,num_classes=10)"
   ]
  },
  {
   "cell_type": "markdown",
   "metadata": {},
   "source": [
    "## Defining Loss"
   ]
  },
  {
   "cell_type": "code",
   "execution_count": 135,
   "metadata": {},
   "outputs": [],
   "source": [
    "loss_function = nn.CrossEntropyLoss()\n",
    "optimizer = torch.optim.Adam(model.parameters(),learning_rate)"
   ]
  },
  {
   "cell_type": "markdown",
   "metadata": {},
   "source": [
    "## Training model"
   ]
  },
  {
   "cell_type": "code",
   "execution_count": 148,
   "metadata": {},
   "outputs": [
    {
     "name": "stdout",
     "output_type": "stream",
     "text": [
      "Epoch  1\n",
      " Iteration  704 \tLoss   1.711 \tAccuracy: 91.08             Correct 13662 Evaluated: 15000\n",
      "Epoch  2\n",
      " Iteration 1408 \tLoss   1.461 \tAccuracy: 91.18             Correct 13677 Evaluated: 15000\n",
      "Total iterations 1408\n"
     ]
    }
   ],
   "source": [
    "iterations = 0\n",
    "for epoch in range(epochs):\n",
    "    print('Epoch ',epoch+1)\n",
    "    for i,(images,labels) in enumerate(train_features):\n",
    "        \n",
    "        '''\n",
    "        As long as the image shape is a 4D tensor(64,1,28,28) we need to reshape it to fit into model which\n",
    "        is a linear fc with 28*28 input dim size. So the feature dim is (batch_size,28*28).\n",
    "        '''\n",
    "        features = Variable(images.view(-1,28*28))\n",
    "        targets  = Variable(labels)\n",
    "\n",
    "        optimizer.zero_grad()\n",
    "        outputs = model(features)\n",
    "        loss = loss_function(outputs,targets)\n",
    "        \n",
    "        #backprop\n",
    "        loss.backward()\n",
    "        \n",
    "        #step\n",
    "        optimizer.step()\n",
    "        iterations +=1\n",
    "                \n",
    "        if (iterations % 500 == 0) or iterations==(epoch+1)*(len(train_features)) or iterations==1:\n",
    "            evaluated = 0\n",
    "            total_correct = 0\n",
    "            for i, (val_images,val_labels) in enumerate(valid_features):\n",
    "                val_features = Variable(val_images.view(-1,28*28))\n",
    "                val_targets = Variable(val_labels)\n",
    "                val_outs  = model(val_features)\n",
    "                _, predicted = torch.max(val_outs.data,1)\n",
    "                total_correct += (predicted==val_labels).sum().numpy()\n",
    "                evaluated += val_labels.size(0)\n",
    "            \n",
    "            acc = (total_correct/evaluated)*100\n",
    "            print(\"\\r Iteration {:4d} \\tLoss {:7.3f} \\tAccuracy: {:4.2f} \\\n",
    "            Correct {:4d} Evaluated: {:4d}\".format(iterations,loss,acc,total_correct,evaluated),end=\"\")\n",
    "            sys.stdout.flush()\n",
    "\n",
    "    print('')\n",
    "\n",
    "print('Total iterations {:4d}'.format(iterations))          "
   ]
  },
  {
   "cell_type": "code",
   "execution_count": null,
   "metadata": {},
   "outputs": [],
   "source": []
  }
 ],
 "metadata": {
  "kernelspec": {
   "display_name": "Python 3",
   "language": "python",
   "name": "python3"
  },
  "language_info": {
   "codemirror_mode": {
    "name": "ipython",
    "version": 3
   },
   "file_extension": ".py",
   "mimetype": "text/x-python",
   "name": "python",
   "nbconvert_exporter": "python",
   "pygments_lexer": "ipython3",
   "version": "3.6.5"
  }
 },
 "nbformat": 4,
 "nbformat_minor": 2
}
