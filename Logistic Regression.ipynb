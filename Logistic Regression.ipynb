{
 "cells": [
  {
   "cell_type": "markdown",
   "metadata": {},
   "source": [
    "# Logistic Regression "
   ]
  },
  {
   "cell_type": "code",
   "execution_count": 33,
   "metadata": {},
   "outputs": [],
   "source": [
    "import torch\n",
    "import torchvision.transforms as transforms\n",
    "import torchvision.datasets as dsets\n",
    "from torch.autograd import Variable\n",
    "import math\n",
    "import torch.nn as nn\n",
    "import torch.nn.functional as F\n",
    "from torch.utils.data.sampler import SubsetRandomSampler\n",
    "import sys"
   ]
  },
  {
   "cell_type": "markdown",
   "metadata": {},
   "source": [
    "## Loading dataset from MNIST"
   ]
  },
  {
   "cell_type": "code",
   "execution_count": 117,
   "metadata": {},
   "outputs": [],
   "source": [
    "train_dataset = dsets.MNIST(root='./data/train',train=True,transform=transforms.ToTensor(),download=True)\n",
    "valid_dataset = dsets.MNIST(root='./data/valid',train=True,transform=transforms.ToTensor(),download=True)\n",
    "test_dataset = dsets.MNIST(root='./data/test',train=False,transform=transforms.ToTensor(),download=True)"
   ]
  },
  {
   "cell_type": "code",
   "execution_count": 118,
   "metadata": {},
   "outputs": [
    {
     "data": {
      "text/plain": [
       "60000"
      ]
     },
     "execution_count": 118,
     "metadata": {},
     "output_type": "execute_result"
    }
   ],
   "source": [
    "(len(train_dataset))"
   ]
  },
  {
   "cell_type": "markdown",
   "metadata": {},
   "source": [
    "## Sampling"
   ]
  },
  {
   "cell_type": "code",
   "execution_count": 119,
   "metadata": {},
   "outputs": [],
   "source": [
    "dset_size = len(train_dataset)\n",
    "indices = list(range(dset_size))\n",
    "train_end = math.floor(0.75*dset_size)\n",
    "train_idx, valid_idx = indices[:train_end],indices[train_end:]\n",
    "train_sample = SubsetRandomSampler(train_idx)\n",
    "valid_sample = SubsetRandomSampler(valid_idx)"
   ]
  },
  {
   "cell_type": "markdown",
   "metadata": {},
   "source": [
    "## Parameters"
   ]
  },
  {
   "cell_type": "code",
   "execution_count": 166,
   "metadata": {},
   "outputs": [],
   "source": [
    "batch_size = 128\n",
    "epochs = 10\n",
    "learning_rate=0.01"
   ]
  },
  {
   "cell_type": "code",
   "execution_count": 167,
   "metadata": {},
   "outputs": [],
   "source": [
    "train_features = torch.utils.data.DataLoader(train_dataset,batch_size=batch_size,sampler=train_sample)\n",
    "valid_features = torch.utils.data.DataLoader(valid_dataset,batch_size=batch_size,sampler=valid_sample)\n",
    "test_features = torch.utils.data.DataLoader(test_dataset,batch_size=batch_size,shuffle=True)"
   ]
  },
  {
   "cell_type": "code",
   "execution_count": 168,
   "metadata": {},
   "outputs": [
    {
     "name": "stdout",
     "output_type": "stream",
     "text": [
      "train n_batches  352\n",
      "valid n_batches  118\n",
      "test n_batches 79\n"
     ]
    }
   ],
   "source": [
    "print('train n_batches ',len(train_features))\n",
    "print('valid n_batches ',len(valid_features))\n",
    "print('test n_batches',len(test_features))"
   ]
  },
  {
   "cell_type": "markdown",
   "metadata": {},
   "source": [
    "## Defining model"
   ]
  },
  {
   "cell_type": "code",
   "execution_count": 169,
   "metadata": {},
   "outputs": [],
   "source": [
    "class LogisticRegression(nn.Module):\n",
    "    def __init__(self,input_size,num_classes):\n",
    "        super(LogisticRegression,self).__init__()\n",
    "        fc1_out_size = 64\n",
    "        self.fc1 = nn.Linear(input_size,fc1_out_size)\n",
    "        self.batch1 = nn.BatchNorm1d(fc1_out_size)\n",
    "        self.fc2 = nn.Linear(fc1_out_size,num_classes)\n",
    "        self.batch2 = nn.BatchNorm1d(num_classes)\n",
    "    \n",
    "    def forward(self,x):\n",
    "        fc1 = self.fc1(x)\n",
    "        fc1 = self.batch1(fc1)\n",
    "        fc1 = F.softmax(fc1,dim=1)\n",
    "        fc2 = self.fc2(fc1)\n",
    "        fc2 = self.batch2(fc2)\n",
    "        return F.softmax(fc2,dim=1)\n",
    "        "
   ]
  },
  {
   "cell_type": "code",
   "execution_count": 170,
   "metadata": {},
   "outputs": [],
   "source": [
    "model = LogisticRegression(input_size=28*28,num_classes=10)"
   ]
  },
  {
   "cell_type": "markdown",
   "metadata": {},
   "source": [
    "## Defining Loss"
   ]
  },
  {
   "cell_type": "code",
   "execution_count": 171,
   "metadata": {},
   "outputs": [],
   "source": [
    "loss_function = nn.CrossEntropyLoss()\n",
    "optimizer = torch.optim.Adam(model.parameters(),learning_rate)"
   ]
  },
  {
   "cell_type": "markdown",
   "metadata": {},
   "source": [
    "## Training model"
   ]
  },
  {
   "cell_type": "code",
   "execution_count": 172,
   "metadata": {},
   "outputs": [
    {
     "name": "stdout",
     "output_type": "stream",
     "text": [
      "Epoch  1\n",
      " Iteration  352 \tLoss   1.749 \tAccuracy: 67.04             Correct 10056 Evaluated: 15000\n",
      "Epoch  2\n",
      " Iteration  704 \tLoss   1.734 \tAccuracy: 68.66             Correct 10299 Evaluated: 15000\n",
      "Epoch  3\n",
      " Iteration 1056 \tLoss   1.548 \tAccuracy: 90.15             Correct 13522 Evaluated: 15000\n",
      "Epoch  4\n",
      " Iteration 1408 \tLoss   1.541 \tAccuracy: 90.57             Correct 13585 Evaluated: 15000\n",
      "Epoch  5\n",
      " Iteration 1760 \tLoss   1.550 \tAccuracy: 90.75             Correct 13613 Evaluated: 15000\n",
      "Epoch  6\n",
      " Iteration 2112 \tLoss   1.560 \tAccuracy: 90.74             Correct 13611 Evaluated: 15000\n",
      "Epoch  7\n",
      " Iteration 2464 \tLoss   1.538 \tAccuracy: 90.62             Correct 13593 Evaluated: 15000\n",
      "Epoch  8\n",
      " Iteration 2816 \tLoss   1.558 \tAccuracy: 90.81             Correct 13621 Evaluated: 15000\n",
      "Epoch  9\n",
      " Iteration 3168 \tLoss   1.530 \tAccuracy: 91.17             Correct 13675 Evaluated: 15000\n",
      "Epoch  10\n",
      " Iteration 3520 \tLoss   1.514 \tAccuracy: 90.97             Correct 13645 Evaluated: 15000\n",
      "Total iterations 3520\n"
     ]
    }
   ],
   "source": [
    "iterations = 0\n",
    "for epoch in range(epochs):\n",
    "    print('Epoch ',epoch+1)\n",
    "    for i,(images,labels) in enumerate(train_features):\n",
    "        \n",
    "        '''\n",
    "        As long as the image shape is a 4D tensor(64,1,28,28) we need to reshape it to fit into model which\n",
    "        is a linear fc with 28*28 input dim size. So the feature dim is (batch_size,28*28).\n",
    "        '''\n",
    "        features = Variable(images.view(-1,28*28))\n",
    "        targets  = Variable(labels)\n",
    "\n",
    "        optimizer.zero_grad()\n",
    "        outputs = model(features)\n",
    "        loss = loss_function(outputs,targets)\n",
    "        \n",
    "        #backprop\n",
    "        loss.backward()\n",
    "        \n",
    "        #step\n",
    "        optimizer.step()\n",
    "        iterations +=1\n",
    "                \n",
    "        if (iterations % 500 == 0) or iterations==(epoch+1)*(len(train_features)) or iterations==1:\n",
    "            evaluated = 0\n",
    "            total_correct = 0\n",
    "            for i, (val_images,val_labels) in enumerate(valid_features):\n",
    "                val_features = Variable(val_images.view(-1,28*28))\n",
    "                val_targets = Variable(val_labels)\n",
    "                eval_model = model.eval()\n",
    "                val_outs  = eval_model(val_features)\n",
    "                _, predicted = torch.max(val_outs.data,1)\n",
    "                total_correct += (predicted==val_labels).sum().numpy()\n",
    "                evaluated += val_labels.size(0)\n",
    "            \n",
    "            acc = (total_correct/evaluated)*100\n",
    "            print(\"\\r Iteration {:4d} \\tLoss {:7.3f} \\tAccuracy: {:4.2f} \\\n",
    "            Correct {:4d} Evaluated: {:4d}\".format(iterations,loss,acc,total_correct,evaluated),end=\"\")\n",
    "            sys.stdout.flush()\n",
    "\n",
    "    print('')\n",
    "\n",
    "print('Total iterations {:4d}'.format(iterations))          "
   ]
  },
  {
   "cell_type": "markdown",
   "metadata": {},
   "source": [
    "## Running model against test dataset"
   ]
  },
  {
   "cell_type": "code",
   "execution_count": 173,
   "metadata": {},
   "outputs": [
    {
     "name": "stdout",
     "output_type": "stream",
     "text": [
      "Accuracy is   91.28%\n"
     ]
    }
   ],
   "source": [
    "evaluated = 0\n",
    "total_correct = 0\n",
    "model = model.eval()\n",
    "for i, (val_images,val_labels) in enumerate(test_features):\n",
    "    val_features = Variable(val_images.view(-1,28*28))\n",
    "    val_targets = Variable(val_labels)\n",
    "    val_outs  = model(val_features)\n",
    "    _, predicted = torch.max(val_outs.data,1)\n",
    "    total_correct += (predicted==val_labels).sum().numpy()\n",
    "    evaluated += val_labels.size(0)\n",
    "test_accuracy = 100.0\n",
    "test_accuracy *=  total_correct/evaluated\n",
    "print('Accuracy is {:7.2f}%'.format(test_accuracy))"
   ]
  },
  {
   "cell_type": "code",
   "execution_count": null,
   "metadata": {},
   "outputs": [],
   "source": []
  }
 ],
 "metadata": {
  "kernelspec": {
   "display_name": "Python 3",
   "language": "python",
   "name": "python3"
  },
  "language_info": {
   "codemirror_mode": {
    "name": "ipython",
    "version": 3
   },
   "file_extension": ".py",
   "mimetype": "text/x-python",
   "name": "python",
   "nbconvert_exporter": "python",
   "pygments_lexer": "ipython3",
   "version": "3.6.5"
  }
 },
 "nbformat": 4,
 "nbformat_minor": 2
}
