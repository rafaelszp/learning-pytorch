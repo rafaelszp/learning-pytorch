{
 "cells": [
  {
   "cell_type": "markdown",
   "metadata": {},
   "source": [
    "# Imports"
   ]
  },
  {
   "cell_type": "code",
   "execution_count": 1,
   "metadata": {},
   "outputs": [],
   "source": [
    "import numpy as np\n",
    "import torch\n"
   ]
  },
  {
   "cell_type": "markdown",
   "metadata": {},
   "source": [
    "## Bridge"
   ]
  },
  {
   "cell_type": "code",
   "execution_count": 7,
   "metadata": {},
   "outputs": [
    {
     "data": {
      "text/plain": [
       "array([[0, 1],\n",
       "       [2, 3],\n",
       "       [4, 5],\n",
       "       [6, 7],\n",
       "       [8, 9]])"
      ]
     },
     "execution_count": 7,
     "metadata": {},
     "output_type": "execute_result"
    }
   ],
   "source": [
    "matrix_a = np.arange(10).reshape(-1,2)\n",
    "matrix_a"
   ]
  },
  {
   "cell_type": "code",
   "execution_count": 9,
   "metadata": {},
   "outputs": [
    {
     "data": {
      "text/plain": [
       "tensor([[  0,   1],\n",
       "        [  2,   3],\n",
       "        [  4,   5],\n",
       "        [ 24,  28],\n",
       "        [ 32,  36]])"
      ]
     },
     "execution_count": 9,
     "metadata": {},
     "output_type": "execute_result"
    }
   ],
   "source": [
    "t_a = torch.from_numpy(matrix_a)\n",
    "t_a\n",
    "t_a[-2:]*=2\n",
    "t_a"
   ]
  },
  {
   "cell_type": "code",
   "execution_count": 15,
   "metadata": {},
   "outputs": [
    {
     "name": "stdout",
     "output_type": "stream",
     "text": [
      "[[ 0  1]\n",
      " [ 2  3]\n",
      " [ 4  5]\n",
      " [24 28]\n",
      " [32 36]] \n",
      "\n",
      "[[ 0  1]\n",
      " [ 2  3]\n",
      " [ 4  5]\n",
      " [24 28]\n",
      " [32 36]]\n"
     ]
    }
   ],
   "source": [
    "matrix_b = t_a.numpy()\n",
    "print(matrix_b,'\\n')\n",
    "print(matrix_a)"
   ]
  },
  {
   "cell_type": "markdown",
   "metadata": {},
   "source": [
    "## CPU or GPU"
   ]
  },
  {
   "cell_type": "code",
   "execution_count": 25,
   "metadata": {},
   "outputs": [
    {
     "name": "stdout",
     "output_type": "stream",
     "text": [
      "cpu\n"
     ]
    }
   ],
   "source": [
    "device = 'cpu'\n",
    "if(torch.cuda.is_available()):\n",
    "    torch.cuda.manual_seed_all(1982)\n",
    "    device='gpu'\n",
    "    t_a.cuda() #converting tensor to GPU version\n",
    "else:\n",
    "    t_a.cpu() #Converting tensor to CPU\n",
    "print(device)\n"
   ]
  },
  {
   "cell_type": "markdown",
   "metadata": {},
   "source": [
    "## Tensor Operations"
   ]
  },
  {
   "cell_type": "code",
   "execution_count": 40,
   "metadata": {},
   "outputs": [
    {
     "name": "stdout",
     "output_type": "stream",
     "text": [
      "torch.Size([5, 2])\n",
      "tensor([  0,   1,   2,   3,   4,   5,  24,  28,  32,  36])\n",
      "tensor([[  0,   1],\n",
      "        [  2,   3],\n",
      "        [  4,   5],\n",
      "        [ 24,  28],\n",
      "        [ 32,  36]])\n",
      "tensor([[  0,   1,   2,   3,   4],\n",
      "        [  5,  24,  28,  32,  36]])\n",
      "tensor([[  0,   2,   4,  24,  32],\n",
      "        [  1,   3,   5,  28,  36]])\n"
     ]
    }
   ],
   "source": [
    "print(t_a.size())\n",
    "print(t_a.view(10)) # Just viewing inline, without reshape\n",
    "print(t_a)\n",
    "print(t_a.view(2,5)) # Verbose Transpose \n",
    "print(torch.t(t_a)) # transpose without reshape"
   ]
  },
  {
   "cell_type": "markdown",
   "metadata": {},
   "source": [
    "## Math operations"
   ]
  },
  {
   "cell_type": "code",
   "execution_count": 43,
   "metadata": {},
   "outputs": [
    {
     "data": {
      "text/plain": [
       "tensor([[ 2.,  2.,  2.],\n",
       "        [ 2.,  2.,  2.],\n",
       "        [ 2.,  2.,  2.]])"
      ]
     },
     "execution_count": 43,
     "metadata": {},
     "output_type": "execute_result"
    }
   ],
   "source": [
    "a = torch.ones(3,3)\n",
    "b = torch.ones(3,3)\n",
    "soma = a+b\n",
    "soma"
   ]
  },
  {
   "cell_type": "code",
   "execution_count": 51,
   "metadata": {},
   "outputs": [
    {
     "data": {
      "text/plain": [
       "tensor([[ 2.,  2.,  2.],\n",
       "        [ 2.,  2.,  2.],\n",
       "        [ 2.,  2.,  2.]])"
      ]
     },
     "execution_count": 51,
     "metadata": {},
     "output_type": "execute_result"
    }
   ],
   "source": [
    "soma = None\n",
    "soma = torch.add(a,b) # Another way of summing\n",
    "soma"
   ]
  },
  {
   "cell_type": "code",
   "execution_count": 52,
   "metadata": {},
   "outputs": [
    {
     "name": "stdout",
     "output_type": "stream",
     "text": [
      "tensor([[ 2.,  2.,  2.],\n",
      "        [ 2.,  2.,  2.],\n",
      "        [ 2.,  2.,  2.]])\n"
     ]
    },
    {
     "data": {
      "text/plain": [
       "tensor([[ 3.,  3.,  3.],\n",
       "        [ 3.,  3.,  3.],\n",
       "        [ 3.,  3.,  3.]])"
      ]
     },
     "execution_count": 52,
     "metadata": {},
     "output_type": "execute_result"
    }
   ],
   "source": [
    "c = torch.ones(3,3)\n",
    "soma.add(c)\n",
    "print(soma) # soma didn't change because its out of place\n",
    "soma.add_(c) #inplace addition\n",
    "soma"
   ]
  },
  {
   "cell_type": "markdown",
   "metadata": {},
   "source": [
    "## Mean"
   ]
  },
  {
   "cell_type": "code",
   "execution_count": 61,
   "metadata": {},
   "outputs": [
    {
     "name": "stdout",
     "output_type": "stream",
     "text": [
      "tensor([[ 0.,  1.],\n",
      "        [ 2.,  3.],\n",
      "        [ 4.,  5.],\n",
      "        [ 6.,  7.],\n",
      "        [ 8.,  9.]])\n"
     ]
    },
    {
     "data": {
      "text/plain": [
       "tensor([ 4.,  5.])"
      ]
     },
     "execution_count": 61,
     "metadata": {},
     "output_type": "execute_result"
    }
   ],
   "source": [
    "a = torch.arange(10).reshape(5,-1)\n",
    "print(a)\n",
    "#mean of dimension 0 eg rows, eg summing all row elements and dividing by the number of rows\n",
    "mean_dim_0 = a.mean(dim=0) \n",
    "mean_dim_0"
   ]
  },
  {
   "cell_type": "code",
   "execution_count": 63,
   "metadata": {},
   "outputs": [
    {
     "name": "stdout",
     "output_type": "stream",
     "text": [
      "tensor([ 0.5000,  2.5000,  4.5000,  6.5000,  8.5000])\n"
     ]
    },
    {
     "data": {
      "text/plain": [
       "torch.Size([5])"
      ]
     },
     "execution_count": 63,
     "metadata": {},
     "output_type": "execute_result"
    }
   ],
   "source": [
    "mean_dim_1 = a.mean(dim=1)\n",
    "print(mean_dim_1)\n",
    "mean_dim_1.size()"
   ]
  },
  {
   "cell_type": "code",
   "execution_count": 59,
   "metadata": {},
   "outputs": [
    {
     "data": {
      "text/plain": [
       "tensor(4.5000)"
      ]
     },
     "execution_count": 59,
     "metadata": {},
     "output_type": "execute_result"
    }
   ],
   "source": [
    "a.mean() #mean of all elements"
   ]
  },
  {
   "cell_type": "code",
   "execution_count": 64,
   "metadata": {},
   "outputs": [
    {
     "data": {
      "text/plain": [
       "tensor(3.0277)"
      ]
     },
     "execution_count": 64,
     "metadata": {},
     "output_type": "execute_result"
    }
   ],
   "source": [
    "a.std()"
   ]
  },
  {
   "cell_type": "code",
   "execution_count": 65,
   "metadata": {},
   "outputs": [
    {
     "data": {
      "text/plain": [
       "tensor(9.1667)"
      ]
     },
     "execution_count": 65,
     "metadata": {},
     "output_type": "execute_result"
    }
   ],
   "source": [
    "a.var()"
   ]
  },
  {
   "cell_type": "markdown",
   "metadata": {},
   "source": [
    "## Grad"
   ]
  },
  {
   "cell_type": "code",
   "execution_count": 5,
   "metadata": {},
   "outputs": [
    {
     "name": "stdout",
     "output_type": "stream",
     "text": [
      "tensor([[ 0.3207,  0.9409],\n",
      "        [ 0.5400,  0.3181]])\n",
      "False\n",
      "True\n"
     ]
    }
   ],
   "source": [
    "a = torch.rand((2,2))\n",
    "print(a)\n",
    "print(a.requires_grad)\n",
    "a.requires_grad_()\n",
    "print(a.requires_grad)\n"
   ]
  }
 ],
 "metadata": {
  "kernelspec": {
   "display_name": "Python 3",
   "language": "python",
   "name": "python3"
  },
  "language_info": {
   "codemirror_mode": {
    "name": "ipython",
    "version": 3
   },
   "file_extension": ".py",
   "mimetype": "text/x-python",
   "name": "python",
   "nbconvert_exporter": "python",
   "pygments_lexer": "ipython3",
   "version": "3.6.5"
  }
 },
 "nbformat": 4,
 "nbformat_minor": 2
}
