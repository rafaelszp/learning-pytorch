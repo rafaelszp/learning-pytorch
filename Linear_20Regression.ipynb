{
  "nbformat": 4,
  "nbformat_minor": 0,
  "metadata": {
    "colab": {
      "name": "Linear%20Regression.ipynb",
      "version": "0.3.2",
      "provenance": []
    },
    "kernelspec": {
      "display_name": "Python 3",
      "language": "python",
      "name": "python3"
    },
    "accelerator": "GPU"
  },
  "cells": [
    {
      "cell_type": "markdown",
      "metadata": {
        "id": "view-in-github",
        "colab_type": "text"
      },
      "source": [
        "[View in Colaboratory](https://colab.research.google.com/github/rafaelszp/learning-pytorch/blob/master/Linear_20Regression.ipynb)"
      ]
    },
    {
      "metadata": {
        "id": "zJz25y01XkpM",
        "colab_type": "code",
        "colab": {
          "base_uri": "https://localhost:8080/",
          "height": 87
        },
        "outputId": "b8979974-832f-47b7-cf19-e3a91ba1a45d"
      },
      "cell_type": "code",
      "source": [
        "from os import path\n",
        "from wheel.pep425tags import get_abbr_impl, get_impl_ver, get_abi_tag\n",
        "platform = '{}{}-{}'.format(get_abbr_impl(), get_impl_ver(), get_abi_tag())\n",
        "\n",
        "accelerator = 'cu80' if path.exists('/opt/bin/nvidia-smi') else 'cpu'\n",
        "\n",
        "!pip install -q http://download.pytorch.org/whl/{accelerator}/torch-0.4.0-{platform}-linux_x86_64.whl torchvision\n",
        "import torch\n",
        "print(torch.__version__)\n",
        "print(torch.cuda.is_available())"
      ],
      "execution_count": 22,
      "outputs": [
        {
          "output_type": "stream",
          "text": [
            "tcmalloc: large alloc 1073750016 bytes == 0x5b5e4000 @  0x7f31188991c4 0x46d6a4 0x5fcbcc 0x4c494d 0x54f3c4 0x553aaf 0x54e4c8 0x54f4f6 0x553aaf 0x54efc1 0x54f24d 0x553aaf 0x54efc1 0x54f24d 0x553aaf 0x54efc1 0x54f24d 0x551ee0 0x54e4c8 0x54f4f6 0x553aaf 0x54efc1 0x54f24d 0x551ee0 0x54efc1 0x54f24d 0x551ee0 0x54e4c8 0x54f4f6 0x553aaf 0x54e4c8\r\n",
            "0.3.0.post4\n",
            "True\n"
          ],
          "name": "stdout"
        }
      ]
    },
    {
      "metadata": {
        "id": "xJdiBXIsXIdr",
        "colab_type": "text"
      },
      "cell_type": "markdown",
      "source": [
        "# Linear Regression"
      ]
    },
    {
      "metadata": {
        "id": "ADeg5YrlZBW_",
        "colab_type": "code",
        "colab": {
          "base_uri": "https://localhost:8080/",
          "height": 84
        },
        "outputId": "661216c4-7daa-483a-b977-d15e5a1e3392"
      },
      "cell_type": "code",
      "source": [
        "#!pip uninstall torch torchvision --yes"
      ],
      "execution_count": 21,
      "outputs": [
        {
          "output_type": "stream",
          "text": [
            "Uninstalling torch-0.4.0:\n",
            "  Successfully uninstalled torch-0.4.0\n",
            "Uninstalling torchvision-0.2.1:\n",
            "  Successfully uninstalled torchvision-0.2.1\n"
          ],
          "name": "stdout"
        }
      ]
    },
    {
      "metadata": {
        "id": "rKSgJ9sCXIdt",
        "colab_type": "code",
        "colab": {
          "base_uri": "https://localhost:8080/",
          "height": 17
        },
        "outputId": "4bf59a52-a8a4-4a73-9ae7-47c6c6ece5ff"
      },
      "cell_type": "code",
      "source": [
        "import torch\n",
        "import numpy as np\n",
        "import torch.nn as nn\n",
        "import matplotlib.pyplot as plt\n",
        "import sys\n",
        "import time\n",
        "from torch.autograd import Variable\n",
        "\n",
        "\n",
        "%matplotlib inline\n",
        "%config InlineBackend.figure_format = 'retina'"
      ],
      "execution_count": 23,
      "outputs": []
    },
    {
      "metadata": {
        "id": "NmiOaXgAXg3D",
        "colab_type": "code",
        "colab": {
          "base_uri": "https://localhost:8080/",
          "height": 17
        },
        "outputId": "04e86421-44f0-41cd-a6eb-18067bae077f"
      },
      "cell_type": "code",
      "source": [
        ""
      ],
      "execution_count": 23,
      "outputs": []
    },
    {
      "metadata": {
        "id": "hP4DGTV9XIdx",
        "colab_type": "code",
        "colab": {
          "base_uri": "https://localhost:8080/",
          "height": 34
        },
        "outputId": "c5d73fe0-bc46-4535-a311-108b6de2eb2c"
      },
      "cell_type": "code",
      "source": [
        "x = np.arange(11,dtype=np.float32).reshape(-1,1)\n",
        "print(x.shape)"
      ],
      "execution_count": 24,
      "outputs": [
        {
          "output_type": "stream",
          "text": [
            "(11, 1)\n"
          ],
          "name": "stdout"
        }
      ]
    },
    {
      "metadata": {
        "id": "DfwU48hRXId6",
        "colab_type": "code",
        "colab": {
          "base_uri": "https://localhost:8080/",
          "height": 34
        },
        "outputId": "19c11b3f-bedf-4634-fa59-c27e3ce2c7c4"
      },
      "cell_type": "code",
      "source": [
        "y = np.array([2*i + 10 for i in x],dtype=np.float32).reshape(-1,1)\n",
        "print(y.shape)"
      ],
      "execution_count": 25,
      "outputs": [
        {
          "output_type": "stream",
          "text": [
            "(11, 1)\n"
          ],
          "name": "stdout"
        }
      ]
    },
    {
      "metadata": {
        "id": "RVm1RudYXIeB",
        "colab_type": "code",
        "colab": {
          "base_uri": "https://localhost:8080/",
          "height": 249
        },
        "outputId": "539420a0-d40d-4799-ddf4-cdcd6541fb0b"
      },
      "cell_type": "code",
      "source": [
        "plt.clf()\n",
        "plt.figure(figsize=(10, 3), dpi=80)\n",
        "plt.plot(x,y,'go',label='Real f(x)', linewidth=2.5,)\n",
        "plt.show()"
      ],
      "execution_count": 26,
      "outputs": [
        {
          "output_type": "display_data",
          "data": {
            "text/plain": [
              "<matplotlib.figure.Figure at 0x7ff4d00d44e0>"
            ]
          },
          "metadata": {
            "tags": []
          }
        },
        {
          "output_type": "display_data",
          "data": {
            "image/png": "[encoded data removed]",
            "text/plain": [
              "<matplotlib.figure.Figure at 0x7ff4d00d46d8>"
            ]
          },
          "metadata": {
            "tags": [],
            "image/png": {
              "width": 656,
              "height": 215
            }
          }
        }
      ]
    },
    {
      "metadata": {
        "id": "CZKF1ZMkXIeI",
        "colab_type": "code",
        "colab": {
          "base_uri": "https://localhost:8080/",
          "height": 34
        },
        "outputId": "43c6fd24-cbea-4c81-8155-9a74cf07f986"
      },
      "cell_type": "code",
      "source": [
        "class LinearRegressionModel(nn.Module):\n",
        "    def __init__(self,input_dim,output_dim):\n",
        "        super(LinearRegressionModel,self).__init__()\n",
        "        self.linear = nn.Linear(input_dim,output_dim)\n",
        "    \n",
        "    def forward(self,x):\n",
        "        return self.linear(x)\n",
        "    \n",
        "model = LinearRegressionModel(input_dim=1,output_dim=1)\n",
        "\n",
        "if torch.cuda.is_available():\n",
        "    print('I\\'go with cuda :D')\n",
        "    model.cuda()"
      ],
      "execution_count": 31,
      "outputs": [
        {
          "output_type": "stream",
          "text": [
            "I'go with cuda :D\n"
          ],
          "name": "stdout"
        }
      ]
    },
    {
      "metadata": {
        "id": "KsSeAjywXIeM",
        "colab_type": "code",
        "colab": {
          "base_uri": "https://localhost:8080/",
          "height": 17
        },
        "outputId": "70f98ab5-91f4-4af7-fb26-bfd375ebb141"
      },
      "cell_type": "code",
      "source": [
        "learning_rate = 0.01\n",
        "mse = nn.MSELoss()\n",
        "optimizer = torch.optim.Adam(model.parameters(),lr=learning_rate)"
      ],
      "execution_count": 32,
      "outputs": []
    },
    {
      "metadata": {
        "id": "rjPTAUG-XIeQ",
        "colab_type": "code",
        "colab": {
          "base_uri": "https://localhost:8080/",
          "height": 50
        },
        "outputId": "d3001d17-4ccf-4b8f-fa5d-e847d99d0eb4"
      },
      "cell_type": "code",
      "source": [
        "epochs = 5000\n",
        "inputs = Variable(torch.from_numpy(x))\n",
        "labels = Variable(torch.from_numpy(y))\n",
        "if(torch.cuda.is_available()):\n",
        "  inputs = Variable(torch.from_numpy(x).cuda())\n",
        "  labels = Variable(torch.from_numpy(y).cuda())\n",
        "initial = time.time()\n",
        "for epoch in range(1,epochs+1):\n",
        "    \n",
        "    #initializing grads for optimzer\n",
        "    optimizer.zero_grad()\n",
        "    #Forward pass\n",
        "    outputs = model(inputs)\n",
        "    #calculating loss\n",
        "    loss = mse(outputs,labels)\n",
        "    #calculating grads\n",
        "    loss.backward()\n",
        "    #stepping in order to update parms\n",
        "    optimizer.step()    \n",
        "    \n",
        "    print(\"\\repoch {:4d} \\tloss {:7.4f}\".format(epoch,loss.data[0]),end=\"\")\n",
        "    sys.stdout.flush()\n",
        "evaluated = time.time()-initial\n",
        "print('\\nEvaluated time {:7.2f} seconds'.format(evaluated))\n"
      ],
      "execution_count": 34,
      "outputs": [
        {
          "output_type": "stream",
          "text": [
            "epoch 5000 \tloss  0.0000\n",
            "Evaluated time   24.04 seconds\n"
          ],
          "name": "stdout"
        }
      ]
    },
    {
      "metadata": {
        "id": "kiW8294dXIeU",
        "colab_type": "text"
      },
      "cell_type": "markdown",
      "source": [
        "## Predicting eg.: Inferencing"
      ]
    },
    {
      "metadata": {
        "id": "6u_Xn9mAXIeV",
        "colab_type": "code",
        "colab": {
          "base_uri": "https://localhost:8080/",
          "height": 202
        },
        "outputId": "9bb4ccb2-926e-44f9-ca69-d41fe5c35c40"
      },
      "cell_type": "code",
      "source": [
        "if torch.cuda.is_available():\n",
        "  predicted = model( Variable(torch.from_numpy(x).cuda()) ).cuda().data.cpu().numpy()\n",
        "else:\n",
        "  predicted = model(torch.from_numpy(x)).data.numpy()\n",
        "predicted"
      ],
      "execution_count": 39,
      "outputs": [
        {
          "output_type": "execute_result",
          "data": {
            "text/plain": [
              "array([[ 9.999541],\n",
              "       [11.999609],\n",
              "       [13.999678],\n",
              "       [15.999746],\n",
              "       [17.999813],\n",
              "       [19.999882],\n",
              "       [21.99995 ],\n",
              "       [24.00002 ],\n",
              "       [26.000088],\n",
              "       [28.000154],\n",
              "       [30.000223]], dtype=float32)"
            ]
          },
          "metadata": {
            "tags": []
          },
          "execution_count": 39
        }
      ]
    },
    {
      "metadata": {
        "id": "Y0cyiZ1kXIeZ",
        "colab_type": "code",
        "colab": {
          "base_uri": "https://localhost:8080/",
          "height": 202
        },
        "outputId": "b8484f4d-6075-4200-a45e-5be7c62b5d47"
      },
      "cell_type": "code",
      "source": [
        "y"
      ],
      "execution_count": 40,
      "outputs": [
        {
          "output_type": "execute_result",
          "data": {
            "text/plain": [
              "array([[10.],\n",
              "       [12.],\n",
              "       [14.],\n",
              "       [16.],\n",
              "       [18.],\n",
              "       [20.],\n",
              "       [22.],\n",
              "       [24.],\n",
              "       [26.],\n",
              "       [28.],\n",
              "       [30.]], dtype=float32)"
            ]
          },
          "metadata": {
            "tags": []
          },
          "execution_count": 40
        }
      ]
    },
    {
      "metadata": {
        "id": "89nofO27XIed",
        "colab_type": "code",
        "colab": {
          "base_uri": "https://localhost:8080/",
          "height": 265
        },
        "outputId": "c2c8c679-8cb9-4a87-ecb8-1be4a74de1d8"
      },
      "cell_type": "code",
      "source": [
        "plt.clf()\n",
        "\n",
        "plt.plot(x,y,'go',label='Real values')\n",
        "plt.plot(x,predicted,'--',label='Predicted values')\n",
        "plt.legend(loc='best')\n",
        "plt.show()"
      ],
      "execution_count": 41,
      "outputs": [
        {
          "output_type": "display_data",
          "data": {
            "image/png": "[encoded data removed]",
            "text/plain": [
              "<matplotlib.figure.Figure at 0x7ff4cfaeb860>"
            ]
          },
          "metadata": {
            "tags": [],
            "image/png": {
              "width": 375,
              "height": 248
            }
          }
        }
      ]
    }
  ]
}